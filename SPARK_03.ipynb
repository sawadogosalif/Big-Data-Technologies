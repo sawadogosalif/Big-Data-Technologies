{
 "cells": [
  {
   "cell_type": "markdown",
   "metadata": {},
   "source": [
    "Le but de ce travail est montrer à quel point la partie features engineering est très importante. \n",
    "\n",
    "Ici, Notre base donnée concernent l'historique des appels d'un service d'assurance.\n",
    "Nous disposons du numéro d'identificaton,  du numéro de telephone,  la date de l'appel.\n",
    "\n",
    "Un client peut nous appeler plusieurs fois jusqu'à ce que ses doléances soient prises en comptes.\n",
    "\n",
    "Pour des modèles de types supervisés, nous devrons nous raméné une dimension temporelle ou à une dimensions individuelle.\n",
    "\n",
    "Par Un client qui a appelé  plusieurs fois le memes jours a surement un problème urgent à regler. \n",
    "\n",
    "L'Objectif de ce feature engineeringe est de calculer des métriques qui nous permettrons de resumer l'information de chaque client afin  par la suite  de mettre en place des actions proactives et améliorer l'expérience client.\n",
    " \n",
    "Nous allons nous focaliser ici sur la dimension indivuelle."
   ]
  },
  {
   "cell_type": "markdown",
   "metadata": {},
   "source": [
    "# Initialisation du context Spark et Hive"
   ]
  },
  {
   "cell_type": "code",
   "execution_count": 1,
   "metadata": {},
   "outputs": [],
   "source": [
    "from pyspark import SparkContext, HiveContext, SparkConf \n",
    "conf = SparkConf().setMaster('local[*]')                # setMaster('yarn-client')\n",
    "conf = conf.setAppName('my_second_app')\n",
    "conf =  conf.set('spark.ui.port', '5050')               # definition du uri spark\n",
    "conf= conf.set('spark.sql.shuffle.partitions','4')\n",
    "sc = SparkContext(conf=conf)                            # Instanciation du context spark\n",
    "hctx = HiveContext(sc)                                # Instanciation du context hive"
   ]
  },
  {
   "cell_type": "markdown",
   "metadata": {},
   "source": [
    "# Les données"
   ]
  },
  {
   "cell_type": "code",
   "execution_count": 2,
   "metadata": {},
   "outputs": [
    {
     "name": "stdout",
     "output_type": "stream",
     "text": [
      "+---------+----------+-------+----------+-------------------+---------+\n",
      "|   callid|callnumber|product|  calldate|           calltime|callqueue|\n",
      "+---------+----------+-------+----------+-------------------+---------+\n",
      "|142267976|    Others|    ULL|25/03/2007|25/03/2007 23:59:58|  3551419|\n",
      "|169922353| Technique|    WHS|25/03/2007|25/03/2007 23:59:03|  3551427|\n",
      "|565759195| Technique|    WHS|25/03/2007|25/03/2007 23:56:46|  3551425|\n",
      "|169245081| Technique|    ULL|25/03/2007|25/03/2007 23:28:09|  3551316|\n",
      "|493556244| Technique|    ULL|25/03/2007|25/03/2007 23:27:03|  3551317|\n",
      "+---------+----------+-------+----------+-------------------+---------+\n",
      "only showing top 5 rows\n",
      "\n"
     ]
    }
   ],
   "source": [
    "hctx.sql(\"USE Upec_2022\")\n",
    "df = hctx.sql(\"SELECT cast(callid as varchar), callnumber ,  product, calldate ,calltime, callqueue FROM svi_data\")\n",
    "rdd = df.rdd                             # transformation en  rdd\n",
    "rdd.persist()                            # persister les données\n",
    "df.show(5)"
   ]
  },
  {
   "cell_type": "code",
   "execution_count": 3,
   "metadata": {},
   "outputs": [
    {
     "data": {
      "text/plain": [
       "107875"
      ]
     },
     "execution_count": 3,
     "metadata": {},
     "output_type": "execute_result"
    }
   ],
   "source": [
    "df.count()"
   ]
  },
  {
   "cell_type": "markdown",
   "metadata": {},
   "source": [
    "Explorons les données par heure"
   ]
  },
  {
   "cell_type": "code",
   "execution_count": 4,
   "metadata": {},
   "outputs": [
    {
     "data": {
      "text/plain": [
       "[(u'25/03/2007 23', 83),\n",
       " (u'25/03/2007 22', 241),\n",
       " (u'25/03/2007 21', 585),\n",
       " (u'25/03/2007 20', 672),\n",
       " (u'25/03/2007 19', 723)]"
      ]
     },
     "execution_count": 4,
     "metadata": {},
     "output_type": "execute_result"
    }
   ],
   "source": [
    "hdata = rdd.map(lambda x : (x.calltime[:13],1)).groupByKey().mapValues(lambda x : len(list(x))).sortByKey(ascending=False)\n",
    "hdata.take(5)"
   ]
  },
  {
   "cell_type": "code",
   "execution_count": 5,
   "metadata": {},
   "outputs": [
    {
     "data": {
      "image/png": "[encoded data removed]",
      "text/plain": [
       "<matplotlib.figure.Figure at 0x7f61dcecd310>"
      ]
     },
     "metadata": {},
     "output_type": "display_data"
    }
   ],
   "source": [
    "from matplotlib import pyplot as plt\n",
    "%matplotlib inline\n",
    "plt.ylabel(\"Appel heure + jours\")\n",
    "plt.plot(hdata.values().collect());"
   ]
  },
  {
   "cell_type": "code",
   "execution_count": 6,
   "metadata": {},
   "outputs": [
    {
     "data": {
      "text/plain": [
       "Row(callid=u'142267976', callnumber=u'Others', product=u'ULL', calldate=u'25/03/2007', calltime=u'25/03/2007 23:59:58', callqueue=3551419)"
      ]
     },
     "execution_count": 6,
     "metadata": {},
     "output_type": "execute_result"
    }
   ],
   "source": [
    "rdd.first()"
   ]
  },
  {
   "cell_type": "markdown",
   "metadata": {},
   "source": [
    "# EDA"
   ]
  },
  {
   "cell_type": "markdown",
   "metadata": {},
   "source": [
    "## Vérification des formats des données"
   ]
  },
  {
   "cell_type": "code",
   "execution_count": 7,
   "metadata": {},
   "outputs": [
    {
     "name": "stdout",
     "output_type": "stream",
     "text": [
      "25/03/2007\n"
     ]
    }
   ],
   "source": [
    "print rdd.map(lambda x: x.asDict()['calldate']).first()"
   ]
  },
  {
   "cell_type": "code",
   "execution_count": 8,
   "metadata": {},
   "outputs": [
    {
     "data": {
      "text/plain": [
       "(10, 107875)"
      ]
     },
     "execution_count": 8,
     "metadata": {},
     "output_type": "execute_result"
    }
   ],
   "source": [
    "rdd.map(lambda x: (len(str(x.asDict()['calldate'])), 1)).groupByKey().map(lambda x: (x[0], len(list(x[1])))).first()"
   ]
  },
  {
   "cell_type": "markdown",
   "metadata": {},
   "source": [
    "Créer un dictionnaire avec clé = colonne et valeur = taille du contenue de la colonne"
   ]
  },
  {
   "cell_type": "code",
   "execution_count": 9,
   "metadata": {},
   "outputs": [
    {
     "name": "stdout",
     "output_type": "stream",
     "text": [
      "[('callid', 9, 107328), ('callid', 1, 547)]\n",
      "[('callnumber', 9, 69924), ('callnumber', 6, 37951)]\n",
      "[('product', 3, 107875)]\n",
      "[('calldate', 10, 107875)]\n",
      "[('calltime', 10, 1), ('calltime', 19, 107874)]\n",
      "[('callqueue', 7, 107875)]\n"
     ]
    }
   ],
   "source": [
    "for i in df.columns:\n",
    "    print df.rdd.map(lambda x : (len(str(x.asDict()[i])),1)).groupByKey()\\\n",
    "    .map(lambda x : (i,x[0],len(list(x[1])))).collect()"
   ]
  },
  {
   "cell_type": "markdown",
   "metadata": {},
   "source": [
    "**Il semble avoir un problème dans la colonne callnumber!!!**"
   ]
  },
  {
   "cell_type": "code",
   "execution_count": 10,
   "metadata": {},
   "outputs": [
    {
     "data": {
      "text/plain": [
       "'callid'"
      ]
     },
     "execution_count": 10,
     "metadata": {},
     "output_type": "execute_result"
    }
   ],
   "source": [
    "df.columns[0]"
   ]
  },
  {
   "cell_type": "markdown",
   "metadata": {},
   "source": [
    "## Filtres et identifications des ménaces\n",
    "\n",
    "Nous pouvons faire les filtres sur les dataframes, ou sur les RDD ou encore des filtre de type SQL avec hive"
   ]
  },
  {
   "cell_type": "code",
   "execution_count": 11,
   "metadata": {},
   "outputs": [
    {
     "name": "stdout",
     "output_type": "stream",
     "text": [
      "+---------+----------+-------+----------+-------------------+---------+\n",
      "|   callid|callnumber|product|  calldate|           calltime|callqueue|\n",
      "+---------+----------+-------+----------+-------------------+---------+\n",
      "|142267976|    Others|    ULL|25/03/2007|25/03/2007 23:59:58|  3551419|\n",
      "|169922353| Technique|    WHS|25/03/2007|25/03/2007 23:59:03|  3551427|\n",
      "|565759195| Technique|    WHS|25/03/2007|25/03/2007 23:56:46|  3551425|\n",
      "|169245081| Technique|    ULL|25/03/2007|25/03/2007 23:28:09|  3551316|\n",
      "|493556244| Technique|    ULL|25/03/2007|25/03/2007 23:27:03|  3551317|\n",
      "+---------+----------+-------+----------+-------------------+---------+\n",
      "only showing top 5 rows\n",
      "\n"
     ]
    }
   ],
   "source": [
    "# via df\n",
    "df.filter('length(calltime)=19').show(5)"
   ]
  },
  {
   "cell_type": "code",
   "execution_count": 12,
   "metadata": {},
   "outputs": [
    {
     "name": "stdout",
     "output_type": "stream",
     "text": [
      "+---------+----------+-------+----------+----------+---------+\n",
      "|   callid|callnumber|product|  calldate|  calltime|callqueue|\n",
      "+---------+----------+-------+----------+----------+---------+\n",
      "|388320927| Technique|    ULL|21/03/2007|21/03/2007|  3551316|\n",
      "+---------+----------+-------+----------+----------+---------+\n",
      "\n"
     ]
    }
   ],
   "source": [
    "df.filter('length(calltime)=10').show(5)"
   ]
  },
  {
   "cell_type": "markdown",
   "metadata": {},
   "source": [
    "**Nous dévons par la suite reformater la date !!!!!!!!!**"
   ]
  },
  {
   "cell_type": "code",
   "execution_count": 13,
   "metadata": {},
   "outputs": [
    {
     "name": "stdout",
     "output_type": "stream",
     "text": [
      "+------+----------+-------+----------+-------------------+---------+\n",
      "|callid|callnumber|product|  calldate|           calltime|callqueue|\n",
      "+------+----------+-------+----------+-------------------+---------+\n",
      "|     0| Technique|    WHS|25/03/2007|25/03/2007 21:56:36|  3551425|\n",
      "|     0| Technique|    WHS|25/03/2007|25/03/2007 21:56:20|  3551324|\n",
      "|     0| Technique|    WHS|25/03/2007|25/03/2007 21:54:13|  3551328|\n",
      "|     0| Technique|    WHS|25/03/2007|25/03/2007 20:23:33|  3551426|\n",
      "|     0| Technique|    WHS|25/03/2007|25/03/2007 19:46:01|  3551327|\n",
      "+------+----------+-------+----------+-------------------+---------+\n",
      "only showing top 5 rows\n",
      "\n"
     ]
    }
   ],
   "source": [
    "df.filter('length(callid)=1').show(5)"
   ]
  },
  {
   "cell_type": "code",
   "execution_count": 14,
   "metadata": {},
   "outputs": [
    {
     "data": {
      "text/plain": [
       "[Row(callid=u'0', callnumber=u'Technique', product=u'WHS', calldate=u'25/03/2007', calltime=u'25/03/2007 21:56:36', callqueue=3551425),\n",
       " Row(callid=u'0', callnumber=u'Technique', product=u'WHS', calldate=u'25/03/2007', calltime=u'25/03/2007 21:56:20', callqueue=3551324),\n",
       " Row(callid=u'0', callnumber=u'Technique', product=u'WHS', calldate=u'25/03/2007', calltime=u'25/03/2007 21:54:13', callqueue=3551328)]"
      ]
     },
     "execution_count": 14,
     "metadata": {},
     "output_type": "execute_result"
    }
   ],
   "source": [
    "# Via rdd\n",
    "rdd.filter(lambda x : len(x[0])==1).take(3)"
   ]
  },
  {
   "cell_type": "code",
   "execution_count": 15,
   "metadata": {},
   "outputs": [
    {
     "name": "stdout",
     "output_type": "stream",
     "text": [
      "+----------+-------------------+---------+-------+----------+------+\n",
      "|  calldate|           calltime|callqueue|product|callnumber|callid|\n",
      "+----------+-------------------+---------+-------+----------+------+\n",
      "|25/03/2007|25/03/2007 21:56:36|  3551425|    WHS| Technique|     0|\n",
      "|25/03/2007|25/03/2007 21:56:20|  3551324|    WHS| Technique|     0|\n",
      "|25/03/2007|25/03/2007 21:54:13|  3551328|    WHS| Technique|     0|\n",
      "|25/03/2007|25/03/2007 20:23:33|  3551426|    WHS| Technique|     0|\n",
      "|25/03/2007|25/03/2007 19:46:01|  3551327|    WHS| Technique|     0|\n",
      "+----------+-------------------+---------+-------+----------+------+\n",
      "only showing top 5 rows\n",
      "\n"
     ]
    }
   ],
   "source": [
    "# via hive sql\n",
    "hctx.sql(\"SELECT * FROM svi_data where length(cast(callid as varchar))=1\").show(5)"
   ]
  },
  {
   "cell_type": "markdown",
   "metadata": {},
   "source": [
    "**Il y a un problème au  de callid. Tous les identifiants raménés à 0 sont des clients qu'on ne peut plus rétrouver. A supprimer!!!!**"
   ]
  },
  {
   "cell_type": "markdown",
   "metadata": {},
   "source": [
    "## Functions et formattage de date"
   ]
  },
  {
   "cell_type": "code",
   "execution_count": 16,
   "metadata": {},
   "outputs": [],
   "source": [
    "def datformat(v):\n",
    "    dp = str(v).split(' ')\n",
    "    if len(dp)==2:\n",
    "        tp = dp[1]\n",
    "    else:\n",
    "        tp = '00:00:00'\n",
    "    delt = dp[0].split('/')\n",
    "    return delt[2]+'-'+delt[1]+'-'+delt[0]+' '+tp"
   ]
  },
  {
   "cell_type": "markdown",
   "metadata": {},
   "source": [
    "### 1ière méthode avec RDD"
   ]
  },
  {
   "cell_type": "code",
   "execution_count": 17,
   "metadata": {},
   "outputs": [
    {
     "data": {
      "text/plain": [
       "[('2007-03-25 00:00:00', u'25/03/2007'),\n",
       " ('2007-03-25 00:00:00', u'25/03/2007'),\n",
       " ('2007-03-25 00:00:00', u'25/03/2007'),\n",
       " ('2007-03-25 00:00:00', u'25/03/2007'),\n",
       " ('2007-03-25 00:00:00', u'25/03/2007')]"
      ]
     },
     "execution_count": 17,
     "metadata": {},
     "output_type": "execute_result"
    }
   ],
   "source": [
    "rdd.map(lambda x : (datformat(x[3]),x[3])).take(5)"
   ]
  },
  {
   "cell_type": "code",
   "execution_count": 18,
   "metadata": {},
   "outputs": [],
   "source": [
    "# 2ième méthode avec Hive SQL"
   ]
  },
  {
   "cell_type": "code",
   "execution_count": 19,
   "metadata": {},
   "outputs": [],
   "source": [
    "from pyspark.sql.types import *\n",
    "# Sauvegarder la fonction dans le SPARKSQL\n",
    "hctx.registerFunction(\"DateFormat\", lambda x : datformat(x), StringType())"
   ]
  },
  {
   "cell_type": "code",
   "execution_count": 20,
   "metadata": {},
   "outputs": [],
   "source": [
    "# We can define a Unix timestamp as the number of seconds that have passed since '1970-01-01 00:00:00'UTr\n",
    "rdd2 = hctx.sql(\"SELECT callid ,COLLECT_LIST(UNIX_TIMESTAMP(DateFormat(calltime))) as call_time \\\n",
    "                FROM svi_data WHERE length(cast(callid as varchar)) !=0 GROUP BY callid\")"
   ]
  },
  {
   "cell_type": "code",
   "execution_count": 21,
   "metadata": {},
   "outputs": [
    {
     "name": "stdout",
     "output_type": "stream",
     "text": [
      "+-------------------+-------------------+-----------------------+\n",
      "|           calltime|  calltime_formated|calltime_UNIX_TIMESTAMP|\n",
      "+-------------------+-------------------+-----------------------+\n",
      "|25/03/2007 23:59:58|2007-03-25 23:59:58|             1174859998|\n",
      "|25/03/2007 23:59:03|2007-03-25 23:59:03|             1174859943|\n",
      "|25/03/2007 23:56:46|2007-03-25 23:56:46|             1174859806|\n",
      "+-------------------+-------------------+-----------------------+\n",
      "only showing top 3 rows\n",
      "\n"
     ]
    }
   ],
   "source": [
    "hctx.sql(\"SELECT calltime, DateFormat(calltime) as calltime_formated, \\\n",
    "            UNIX_TIMESTAMP(DateFormat(calltime)) as calltime_UNIX_TIMESTAMP FROM svi_data\").show(3)"
   ]
  },
  {
   "cell_type": "markdown",
   "metadata": {},
   "source": [
    "# Features Engineering Grave à la regression linéaire"
   ]
  },
  {
   "cell_type": "markdown",
   "metadata": {},
   "source": [
    "Création d'une fonction qui nous permettra de calculer le temps entre des séquences d'appels"
   ]
  },
  {
   "cell_type": "code",
   "execution_count": 22,
   "metadata": {},
   "outputs": [],
   "source": [
    "import numpy as np\n",
    "def sortDif(seq):\n",
    "    seq.sort()\n",
    "    return np.diff(seq)"
   ]
  },
  {
   "cell_type": "code",
   "execution_count": 24,
   "metadata": {},
   "outputs": [
    {
     "data": {
      "text/plain": [
       "11286"
      ]
     },
     "execution_count": 24,
     "metadata": {},
     "output_type": "execute_result"
    }
   ],
   "source": [
    "rdd2.filter('SIZE(call_time)>=3').count()"
   ]
  },
  {
   "cell_type": "code",
   "execution_count": 26,
   "metadata": {},
   "outputs": [
    {
     "data": {
      "text/plain": [
       "Row(callid=123456789, call_time=[1174666698, 1174663568, 1174571223, 1174405832])"
      ]
     },
     "execution_count": 26,
     "metadata": {},
     "output_type": "execute_result"
    }
   ],
   "source": [
    "rdd2.first()"
   ]
  },
  {
   "cell_type": "markdown",
   "metadata": {},
   "source": [
    "Definir une fonctions qui fait une regression individuelles et recuperer la pente, la constante \n",
    "et d'autres statistique importante"
   ]
  },
  {
   "cell_type": "code",
   "execution_count": 27,
   "metadata": {},
   "outputs": [],
   "source": [
    "from scipy import stats\n",
    "\n",
    "def trend(x):\n",
    "    y=np.arange(1, len(x)+1)\n",
    "    trend, intercept, r_value, p_value ,std_error= stats.linregress(y,x)\n",
    "    return (trend, intercept, r_value, p_value, std_error)"
   ]
  },
  {
   "cell_type": "code",
   "execution_count": 28,
   "metadata": {},
   "outputs": [
    {
     "data": {
      "text/plain": [
       "(-81130.5,\n",
       " 249216.33333333331,\n",
       " -0.99834913979293449,\n",
       " 0.03658558764487789,\n",
       " 4667.5882512635535)"
      ]
     },
     "execution_count": 28,
     "metadata": {},
     "output_type": "execute_result"
    }
   ],
   "source": [
    "trend([165391,  92345,   3130])"
   ]
  },
  {
   "cell_type": "markdown",
   "metadata": {},
   "source": [
    "La constante represente la fréquence initial à la quelle le client appelait. \n",
    "\n",
    "La pente est positive veut dire que le client appèle de plus en plus.\n",
    "\n",
    "On se retrouvent avec 5 nouvelles métriques qui sont très informatives Elles pourraient etre utiliser par la suite pour la modélisation du comportement de nos clients "
   ]
  },
  {
   "cell_type": "code",
   "execution_count": 29,
   "metadata": {},
   "outputs": [],
   "source": [
    "rdd3 = rdd2.filter('SIZE(call_time) >= 3')\\\n",
    ".rdd.map(lambda x: (x[0], len(x[1]), sortDif((x[1]))))\\\n",
    ".map(lambda x: (x[0], x[1], trend(x[2])))"
   ]
  },
  {
   "cell_type": "code",
   "execution_count": 30,
   "metadata": {},
   "outputs": [
    {
     "name": "stdout",
     "output_type": "stream",
     "text": [
      "+---------+------+-------------------+------------------+--------------------+-------------------+------------------+\n",
      "|   callid|nbcall|              pente|             const|              pvalue|           rsquared|            stderr|\n",
      "+---------+------+-------------------+------------------+--------------------+-------------------+------------------+\n",
      "|123456789|     4|           -81130.5| 249216.3333333333| -0.9983491397929345|0.03658558764487789|4667.5882512635535|\n",
      "|130218478|     5|           132507.4|         -218634.0|  0.7722502890322219| 0.2277497109677779| 77082.98077734151|\n",
      "|130221240|     9| -5644.428571428572| 68703.92857142858|-0.21299008495125576|  0.612557028023451|10570.698767708865|\n",
      "|130221732|     4|            40380.0| 87510.33333333334|  0.1820389968189061| 0.8834605757419596|218114.27144580276|\n",
      "|130253787|     3|             -587.0|            2518.0|                -1.0|                0.0|               0.0|\n",
      "|130309338|     3|             1371.0|           -1112.0|                 1.0|                0.0|               0.0|\n",
      "|130332165|     3|             -983.0|            2155.0|                -1.0|                0.0|               0.0|\n",
      "|130344738|     3|           374494.0|         -374375.0|                 1.0|                0.0|               0.0|\n",
      "|130384895|     3|           -56768.0|          130278.0|                -1.0|                0.0|               0.0|\n",
      "|130387491|     8|-229.89285714285734|11175.142857142859|-0.02595065574468...| 0.9559596312178951|3960.4620395973798|\n",
      "|130389631|     3|          -140573.0|          283551.0|                -1.0|                0.0|               0.0|\n",
      "|130432761|     3|             1814.0|            1982.0|                 1.0|                0.0|               0.0|\n",
      "|130550496|     3|              417.0|            -106.0|                 1.0|                0.0|               0.0|\n",
      "|130558652|     4|-399.99999999999994|1775.6666666666665| -0.7188464581397194|0.48934084633241953|386.82468035704926|\n",
      "|130558746|     3|           143676.0|         -143458.0|                 1.0|                0.0|               0.0|\n",
      "|130570155|     3|            27987.0|          -13233.0|                 1.0|                0.0|               0.0|\n",
      "|130591425|     3|             8642.0|              24.0|                 1.0|                0.0|               0.0|\n",
      "|130597299|     5|           -25209.9|           85331.0| -0.7766323931613065| 0.2233676068386934|14459.374560125345|\n",
      "|130599005|     3|           -50392.0|          101414.0|                -1.0|                0.0|               0.0|\n",
      "|130620296|     3|               -4.0|             244.0|                -1.0|                0.0|               0.0|\n",
      "+---------+------+-------------------+------------------+--------------------+-------------------+------------------+\n",
      "only showing top 20 rows\n",
      "\n"
     ]
    }
   ],
   "source": [
    "rdd_fin = hctx.createDataFrame(rdd3.map(lambda x: (x[0], x[1], float(x[2][0]),  float(x[2][1]),  float(x[2][2]),  float(x[2][3]), float(x[2][4]))), [\"callid\", \"nbcall\", \"pente\", \"const\", \"pvalue\", \"rsquared\", \"stderr\"])\n",
    "\n",
    "rdd_fin.show()"
   ]
  },
  {
   "cell_type": "markdown",
   "metadata": {},
   "source": [
    "Exporter les données vers Hive"
   ]
  },
  {
   "cell_type": "code",
   "execution_count": 31,
   "metadata": {},
   "outputs": [],
   "source": [
    "rdd_fin.registerTempTable(\"user_call_metrics\")"
   ]
  },
  {
   "cell_type": "code",
   "execution_count": 34,
   "metadata": {},
   "outputs": [],
   "source": [
    "Query=\"CREATE TABLE UPEC_2022.usr_recall_est AS SELECT * FROM user_call_metrics\"\n",
    "hctx.sql(Query)"
   ]
  }
 ],
 "metadata": {
  "kernelspec": {
   "display_name": "Python 2",
   "language": "python",
   "name": "python2"
  },
  "language_info": {
   "codemirror_mode": {
    "name": "ipython",
    "version": 2
   },
   "file_extension": ".py",
   "mimetype": "text/x-python",
   "name": "python",
   "nbconvert_exporter": "python",
   "pygments_lexer": "ipython2",
   "version": "2.7.12"
  }
 },
 "nbformat": 4,
 "nbformat_minor": 2
}
