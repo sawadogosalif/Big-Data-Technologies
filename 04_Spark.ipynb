{
 "cells": [
  {
   "cell_type": "markdown",
   "metadata": {},
   "source": [
    "## Modules"
   ]
  },
  {
   "cell_type": "code",
   "execution_count": null,
   "metadata": {},
   "outputs": [],
   "source": [
    "from pyspark import SparkContext, SparkConf, HiveContext\n",
    "from pyspark.mllib.linalg import Vectors\n",
    "from pyspark.mllib.clustering import KMeans, KMeansModel\n",
    "from pyspark.mllib.feature import StandardScaler, StandardScalerModel\n",
    "from math import sqrt\n",
    "import matplotlib.pyplot as plt\n",
    "%matplotlib inline"
   ]
  },
  {
   "cell_type": "markdown",
   "metadata": {},
   "source": [
    "## Context SPARK"
   ]
  },
  {
   "cell_type": "code",
   "execution_count": 1,
   "metadata": {},
   "outputs": [],
   "source": [
    "# Quelques Param de Conf\n",
    "conf = SparkConf()\n",
    "conf = conf.set('spark.sql.shuffle.partitions', '4')\n",
    "conf = conf.setMaster('local[*]')\n",
    "conf = conf.setAppName('K-MEANS')\n",
    "conf = conf.set('spark.ui.port', '5050')\n",
    "\n",
    "# Demarrage du Context SPARK\n",
    "sc = SparkContext(conf=conf )\n",
    "#Create HiveContext\n",
    "hctx = HiveContext(sc)"
   ]
  },
  {
   "cell_type": "markdown",
   "metadata": {},
   "source": [
    "## Data"
   ]
  },
  {
   "cell_type": "code",
   "execution_count": 26,
   "metadata": {},
   "outputs": [
    {
     "name": "stdout",
     "output_type": "stream",
     "text": [
      "+--------------------+--------------+------+-----------------+------------------+--------------------+-----------------------+-------------------------+---------------------+-----------------------+-----------------------+-------------------------+---------------+-----------------------+-------------------------+---------------+--------------------+----------------------------+------------------------------+-------------------------+----------+------------------+--------------------+---------------+-------------+---------------------+-----------------------+------------------+------------+--------------------+----------------------+-----------------+------------+--------------------+----------------------+-----------------+-----------------------+-------------------------------+---------------------------+----------------------------+-----------------+--------------------+--------------------+--------------------+-------+----------------------+----------------+\n",
      "|     code_client_rcu|nb_tickets_cli|ca_cli|        marge_cli|nb_tickets_tlv_cli|part_tickets_tlv_cli|nb_tickets_internet_cli|part_tickets_internet_cli|nb_tickets_agence_cli|part_tickets_agence_cli|nb_tickets_surgeles_cli|part_tickets_surgeles_cli|ca_surgeles_cli|nb_tickets_epicerie_cli|part_tickets_epicerie_cli|ca_epicerie_cli|nb_indispensable_cli|nb_tickets_indispensable_cli|part_tickets_indispensable_cli|nb_pdts_indispensable_cli|nb_bio_cli|nb_tickets_bio_cli|part_tickets_bio_cli|nb_pdts_bio_cli|nb_cacher_cli|nb_tickets_cacher_cli|part_tickets_cacher_cli|nb_pdts_cacher_cli|nb_halal_cli|nb_tickets_halal_cli|part_tickets_halal_cli|nb_pdts_halal_cli|nb_sante_cli|nb_tickets_sante_cli|part_tickets_sante_cli|nb_pdts_sante_cli|nb_lourd_volumineux_cli|nb_tickets_lourd_volumineux_cli|part_tickets_volumineux_cli|nb_pdts_lourd_volumineux_cli|anciennete_compte|          code_insee|         code_postal|  typo_commune_insee|age_fin|nb_personnes_foyer_fin|population_insee|\n",
      "+--------------------+--------------+------+-----------------+------------------+--------------------+-----------------------+-------------------------+---------------------+-----------------------+-----------------------+-------------------------+---------------+-----------------------+-------------------------+---------------+--------------------+----------------------------+------------------------------+-------------------------+----------+------------------+--------------------+---------------+-------------+---------------------+-----------------------+------------------+------------+--------------------+----------------------+-----------------+------------+--------------------+----------------------+-----------------+-----------------------+-------------------------------+---------------------------+----------------------------+-----------------+--------------------+--------------------+--------------------+-------+----------------------+----------------+\n",
      "|dts_mod_rcu.code_...|          null|  null|             null|              null|                null|                   null|                     null|                 null|                   null|                   null|                     null|           null|                   null|                     null|           null|                null|                        null|                          null|                     null|      null|              null|                null|           null|         null|                 null|                   null|              null|        null|                null|                  null|             null|        null|                null|                  null|             null|                   null|                           null|                       null|                        null|             null|dts_mod_rcu.code_...|dts_mod_rcu.code_...|dts_mod_rcu.typo_...|   null|                  null|            null|\n",
      "|            16190581|             5|201.47|90.72999999999999|                 5|                 1.0|                      0|                      0.0|                    0|                    0.0|                      5|                      1.0|         197.97|                      5|                      1.0|            3.5|                   0|                           0|                           0.0|                        0|         0|                 0|                 0.0|              0|            0|                    0|                    0.0|                 0|           0|                   0|                   0.0|                0|           0|                   0|                   0.0|                0|                      0|                              0|                        0.0|                           0|             4244|               85265|               85420|               Rural|   90.0|                   2.0|             964|\n",
      "|            A2274157|             1|  38.0|            20.52|                 1|                 1.0|                      0|                      0.0|                    0|                    0.0|                      1|                      1.0|           38.0|                      1|                      1.0|            0.0|                   0|                           0|                           0.0|                        0|         0|                 0|                 0.0|              0|            0|                    0|                    0.0|                 0|           0|                   0|                   0.0|                0|           0|                   0|                   0.0|                0|                      0|                              0|                        0.0|                           0|             2323|               44190|               44230|              Urbain|   45.0|                   4.0|           25655|\n",
      "+--------------------+--------------+------+-----------------+------------------+--------------------+-----------------------+-------------------------+---------------------+-----------------------+-----------------------+-------------------------+---------------+-----------------------+-------------------------+---------------+--------------------+----------------------------+------------------------------+-------------------------+----------+------------------+--------------------+---------------+-------------+---------------------+-----------------------+------------------+------------+--------------------+----------------------+-----------------+------------+--------------------+----------------------+-----------------+-----------------------+-------------------------------+---------------------------+----------------------------+-----------------+--------------------+--------------------+--------------------+-------+----------------------+----------------+\n",
      "only showing top 3 rows\n",
      "\n"
     ]
    }
   ],
   "source": [
    "hctx.sql(\"USE Default\")\n",
    "df = hctx.sql(\"SELECT * FROM dts_mod_rcu\")\n",
    "rdd = df.rdd                            # transformation en  rdd\n",
    "rdd.persist()                           # persister les données\n",
    "df.show(3)"
   ]
  },
  {
   "cell_type": "code",
   "execution_count": 5,
   "metadata": {},
   "outputs": [
    {
     "data": {
      "text/plain": [
       "99999"
      ]
     },
     "execution_count": 5,
     "metadata": {},
     "output_type": "execute_result"
    }
   ],
   "source": [
    "df = hctx.sql(\"SELECT code_client_rcu, age_fin ,nb_personnes_foyer_fin,ca_cli,  nb_tickets_bio_cli, nb_tickets_epicerie_cli FROM dts_mod_rcu WHERE nb_tickets_cli > 0\")\n",
    "df = df.persist()\n",
    "df.count()"
   ]
  },
  {
   "cell_type": "code",
   "execution_count": 7,
   "metadata": {},
   "outputs": [
    {
     "name": "stdout",
     "output_type": "stream",
     "text": [
      "root\n",
      " |-- code_client_rcu: string (nullable = true)\n",
      " |-- age_fin: double (nullable = true)\n",
      " |-- nb_personnes_foyer_fin: double (nullable = true)\n",
      " |-- ca_cli: double (nullable = true)\n",
      " |-- nb_tickets_bio_cli: long (nullable = true)\n",
      " |-- nb_tickets_epicerie_cli: long (nullable = true)\n",
      "\n"
     ]
    }
   ],
   "source": [
    "df.printSchema()"
   ]
  },
  {
   "cell_type": "code",
   "execution_count": 24,
   "metadata": {},
   "outputs": [
    {
     "name": "stdout",
     "output_type": "stream",
     "text": [
      "+-------+\n",
      "|summary|\n",
      "+-------+\n",
      "|  count|\n",
      "|   mean|\n",
      "| stddev|\n",
      "|    min|\n",
      "|    max|\n",
      "+-------+\n",
      "\n",
      "+-------+------------------+\n",
      "|summary|           age_fin|\n",
      "+-------+------------------+\n",
      "|  count|             99999|\n",
      "|   mean| 67.81340180138943|\n",
      "| stddev|18.091855579018485|\n",
      "|    min|               0.0|\n",
      "|    max|             117.0|\n",
      "+-------+------------------+\n",
      "\n",
      "+-------+----------------------+\n",
      "|summary|nb_personnes_foyer_fin|\n",
      "+-------+----------------------+\n",
      "|  count|                 99999|\n",
      "|   mean|     2.029079501982773|\n",
      "| stddev|    0.9527678108409923|\n",
      "|    min|                   1.0|\n",
      "|    max|                   5.0|\n",
      "+-------+----------------------+\n",
      "\n",
      "+-------+--------------------+\n",
      "|summary|              ca_cli|\n",
      "+-------+--------------------+\n",
      "|  count|               99999|\n",
      "|   mean|  325.89332653326414|\n",
      "| stddev|   436.3827548810032|\n",
      "|    min|-0.01000000000000334|\n",
      "|    max|            17654.93|\n",
      "+-------+--------------------+\n",
      "\n",
      "+-------+------------------+\n",
      "|summary|nb_tickets_bio_cli|\n",
      "+-------+------------------+\n",
      "|  count|             99999|\n",
      "|   mean|0.5386553865538656|\n",
      "| stddev|1.6541396554078422|\n",
      "|    min|                 0|\n",
      "|    max|                46|\n",
      "+-------+------------------+\n",
      "\n",
      "+-------+-----------------------+\n",
      "|summary|nb_tickets_epicerie_cli|\n",
      "+-------+-----------------------+\n",
      "|  count|                  99999|\n",
      "|   mean|      5.515285152851528|\n",
      "| stddev|      4.772758054922473|\n",
      "|    min|                      0|\n",
      "|    max|                     58|\n",
      "+-------+-----------------------+\n",
      "\n"
     ]
    }
   ],
   "source": [
    "varList=[]\n",
    "\n",
    "for c in df.dtypes:\n",
    "    if (c[1]==\"string\" and c[0]<>'code_client_rcu' or 'part' in c[0]):\n",
    "        print 'droping (0)'.format(c)\n",
    "        df=df.drop(c[0])\n",
    "    elif c[0] <>'code_client_rcu':\n",
    "        varList.append(c[0])\n",
    "        \n",
    "for c in df.columns :\n",
    "    df.select(c).describe().show()"
   ]
  },
  {
   "cell_type": "code",
   "execution_count": 6,
   "metadata": {},
   "outputs": [
    {
     "name": "stdout",
     "output_type": "stream",
     "text": [
      "+-------+------------------+----------------------+--------------------+------------------+-----------------------+\n",
      "|summary|           age_fin|nb_personnes_foyer_fin|              ca_cli|nb_tickets_bio_cli|nb_tickets_epicerie_cli|\n",
      "+-------+------------------+----------------------+--------------------+------------------+-----------------------+\n",
      "|  count|             99999|                 99999|               99999|             99999|                  99999|\n",
      "|   mean| 67.81340180138943|     2.029079501982773|  325.89332653326414|0.5386553865538656|      5.515285152851528|\n",
      "| stddev|18.091855579018485|    0.9527678108409923|   436.3827548810032|1.6541396554078422|      4.772758054922473|\n",
      "|    min|               0.0|                   1.0|-0.01000000000000334|                 0|                      0|\n",
      "|    max|             117.0|                   5.0|            17654.93|                46|                     58|\n",
      "+-------+------------------+----------------------+--------------------+------------------+-----------------------+\n",
      "\n"
     ]
    }
   ],
   "source": [
    "df.describe().show()"
   ]
  },
  {
   "cell_type": "code",
   "execution_count": 7,
   "metadata": {},
   "outputs": [],
   "source": [
    "df=df.na.fill(0.0)"
   ]
  },
  {
   "cell_type": "markdown",
   "metadata": {},
   "source": [
    "## Data preparaton"
   ]
  },
  {
   "cell_type": "code",
   "execution_count": 9,
   "metadata": {},
   "outputs": [
    {
     "data": {
      "text/plain": [
       "(u'16190581', DenseVector([90.0, 2.0, 201.47, 0.0, 5.0]))"
      ]
     },
     "execution_count": 9,
     "metadata": {},
     "output_type": "execute_result"
    }
   ],
   "source": [
    "data = df.rdd.map(lambda x :(x[0], Vectors.dense(x[1:])))\n",
    "data.first()"
   ]
  },
  {
   "cell_type": "code",
   "execution_count": 14,
   "metadata": {},
   "outputs": [
    {
     "data": {
      "text/plain": [
       "[u'16190581', u'A2274157', u'A2101873', u'I0356097', u'A3677499']"
      ]
     },
     "execution_count": 14,
     "metadata": {},
     "output_type": "execute_result"
    }
   ],
   "source": [
    "key = df.rdd.map(lambda x: (x[0]))\n",
    "key.take(5)"
   ]
  },
  {
   "cell_type": "code",
   "execution_count": 9,
   "metadata": {},
   "outputs": [
    {
     "data": {
      "text/plain": [
       "[(90.0, 2.0, 201.47, 0, 5),\n",
       " (45.0, 4.0, 38.0, 0, 1),\n",
       " (68.65195349421322, 1.94120441631986, 36.0, 0, 1),\n",
       " (60.0, 2.251710553597346, 27.9, 0, 1),\n",
       " (54.0, 2.0, 37.43000000000001, 0, 1)]"
      ]
     },
     "execution_count": 9,
     "metadata": {},
     "output_type": "execute_result"
    }
   ],
   "source": [
    "features = df.rdd.map(lambda x : (x[1:]))\n",
    "features.take(5)"
   ]
  },
  {
   "cell_type": "markdown",
   "metadata": {},
   "source": [
    "Centrer et réduire les variables"
   ]
  },
  {
   "cell_type": "code",
   "execution_count": 12,
   "metadata": {},
   "outputs": [
    {
     "data": {
      "text/plain": [
       "[DenseVector([1.2263, -0.0305, -0.2851, -0.3256, -0.108]),\n",
       " DenseVector([-1.261, 2.0686, -0.6597, -0.3256, -0.9461]),\n",
       " DenseVector([0.0463, -0.0922, -0.6643, -0.3256, -0.9461]),\n",
       " DenseVector([-0.4319, 0.2337, -0.6829, -0.3256, -0.9461]),\n",
       " DenseVector([-0.7635, -0.0305, -0.661, -0.3256, -0.9461])]"
      ]
     },
     "execution_count": 12,
     "metadata": {},
     "output_type": "execute_result"
    }
   ],
   "source": [
    "scaler = StandardScaler(withStd=True, withMean=True).fit(features)\n",
    "stdfeat = scaler.transform(features) \n",
    "stdfeat.take(5)"
   ]
  },
  {
   "cell_type": "code",
   "execution_count": 15,
   "metadata": {},
   "outputs": [
    {
     "data": {
      "text/plain": [
       "[(u'A2013402', DenseVector([-0.1002, -1.0801, -0.4487, 0.2789, -0.3175])),\n",
       " (u'I0151601', DenseVector([0.0463, -0.0922, -0.085, 3.3016, 0.9396])),\n",
       " (u'62170496', DenseVector([0.1209, -1.0801, 0.0728, -0.3256, 0.3111])),\n",
       " (u'A0390146', DenseVector([0.8947, -1.0801, 6.1468, -0.3256, 4.292])),\n",
       " (u'A4002569', DenseVector([0.0036, -0.0203, -0.6521, -0.3256, -0.9461]))]"
      ]
     },
     "execution_count": 15,
     "metadata": {},
     "output_type": "execute_result"
    }
   ],
   "source": [
    "##Zip complete RDD\n",
    "data = key.zip(stdfeat)\n",
    "data = data.repartition(4)\n",
    "data.take(5)"
   ]
  },
  {
   "cell_type": "code",
   "execution_count": 14,
   "metadata": {},
   "outputs": [
    {
     "data": {
      "text/plain": [
       "99999"
      ]
     },
     "execution_count": 14,
     "metadata": {},
     "output_type": "execute_result"
    }
   ],
   "source": [
    "data = data.persist()\n",
    "data.count()"
   ]
  },
  {
   "cell_type": "markdown",
   "metadata": {},
   "source": [
    "## Choix du k"
   ]
  },
  {
   "cell_type": "code",
   "execution_count": 16,
   "metadata": {},
   "outputs": [],
   "source": [
    "def error(clusters, point):\n",
    "    center = clusters.centers[clusters.predict(point)]\n",
    "    return sqrt(sum([x**2 for x in (point-center)]))"
   ]
  },
  {
   "cell_type": "code",
   "execution_count": 16,
   "metadata": {},
   "outputs": [
    {
     "name": "stdout",
     "output_type": "stream",
     "text": [
      "\t- WSSSE for K(2)-means = 154421.289206\n",
      "\t- WSSSE for K(3)-means = 141464.998009\n",
      "\t- WSSSE for K(4)-means = 136972.347816\n",
      "\t- WSSSE for K(5)-means = 120123.044864\n",
      "\t- WSSSE for K(6)-means = 115696.0413\n",
      "\t- WSSSE for K(7)-means = 108863.229766\n",
      "\t- WSSSE for K(8)-means = 107182.830122\n",
      "\t- WSSSE for K(9)-means = 102897.261869\n"
     ]
    }
   ],
   "source": [
    "outPut = []\n",
    "xk = []\n",
    "\n",
    "for k in range(2, 10):\n",
    "    clusters = KMeans.train(data.map(lambda x: (x[1])),\\\n",
    "                           k,\\\n",
    "                           maxIterations=100,\\\n",
    "                           initializationMode=\"k-means||\",\\\n",
    "                           seed=12345,\\\n",
    "                           initializationSteps=5,\\\n",
    "                           epsilon=1e-4)\n",
    "\n",
    "    WSSSE = (data.map(lambda x: (x[1]))\\\n",
    "            .map(lambda x: error(clusters, x))\\\n",
    "            .reduce(lambda x, y: x + y))\n",
    "\n",
    "    outPut.append(WSSSE)\n",
    "    xk.append(k)\n",
    "    \n",
    "    print(\"\\t- WSSSE for K({0})-means = {1}\".format(k, WSSSE))"
   ]
  },
  {
   "cell_type": "code",
   "execution_count": 17,
   "metadata": {},
   "outputs": [
    {
     "data": {
      "image/png": "[encoded data removed]",
      "text/plain": [
       "<matplotlib.figure.Figure at 0x7f34ceb9ddd0>"
      ]
     },
     "metadata": {},
     "output_type": "display_data"
    }
   ],
   "source": [
    "plt.plot(xk,outPut)\n",
    "plt.show()"
   ]
  },
  {
   "cell_type": "code",
   "execution_count": 17,
   "metadata": {},
   "outputs": [
    {
     "name": "stdout",
     "output_type": "stream",
     "text": [
      "[array([ 1.03870784, -0.58856496, -0.14729008, -0.12733411,  0.00146062]), array([-0.3835678 , -0.08313784, -0.45778935, -0.2020885 , -0.58952305]), array([ 0.3007807 , -0.35882723,  1.14243284,  0.14379107,  1.38913912]), array([ 0.38054644, -0.3274483 ,  2.50516282,  4.8601208 ,  2.00998326]), array([-1.15454073,  2.19175133, -0.21246968, -0.18310696, -0.27797803])]\n"
     ]
    }
   ],
   "source": [
    "clusters = KMeans.train(data.map(lambda x: (x[1])),\\\n",
    "                       5,\\\n",
    "                       maxIterations=100,\\\n",
    "                       initializationMode=\"random\",\\\n",
    "                       seed=12345,\\\n",
    "                       initializationSteps=5,\\\n",
    "                       epsilon=1e-3)\n",
    "\n",
    "print clusters.clusterCenters"
   ]
  },
  {
   "cell_type": "markdown",
   "metadata": {},
   "source": [
    "## Exportation du Model"
   ]
  },
  {
   "cell_type": "code",
   "execution_count": null,
   "metadata": {},
   "outputs": [],
   "source": [
    "# Sauvegarde du model sur le HDFS\n",
    "clusters.save(sc,\"/user/hadoop/MODELS/kmeans_01\")"
   ]
  },
  {
   "cell_type": "code",
   "execution_count": null,
   "metadata": {},
   "outputs": [],
   "source": [
    "# Chargement du model\n",
    "model = KMeansModel.load(sc, \"/user/hadoop/MODELS/kmeans_01\")"
   ]
  },
  {
   "cell_type": "markdown",
   "metadata": {},
   "source": [
    "model"
   ]
  },
  {
   "cell_type": "code",
   "execution_count": 20,
   "metadata": {},
   "outputs": [
    {
     "data": {
      "text/plain": [
       "<pyspark.mllib.clustering.KMeansModel at 0x7f3e2816bd50>"
      ]
     },
     "execution_count": 20,
     "metadata": {},
     "output_type": "execute_result"
    }
   ],
   "source": [
    "KMeans.train(data.map(lambda x: (x[1])),\\\n",
    "                       5,\\\n",
    "                       maxIterations=100,\\\n",
    "                       #initializationMode=\"random\",\\\n",
    "                       seed=12345,\\\n",
    "                       initializationSteps=5,\\\n",
    "                       initialModel = model,\n",
    "                       epsilon=1e-3)"
   ]
  },
  {
   "cell_type": "code",
   "execution_count": 21,
   "metadata": {},
   "outputs": [],
   "source": [
    "output = data.map(lambda x: x[0]).zip(clusters.predict(data.map(lambda y: (y[1]))))\\\n",
    ".toDF([\"code_client_rcu\", \"cluster\"])"
   ]
  },
  {
   "cell_type": "code",
   "execution_count": 22,
   "metadata": {},
   "outputs": [
    {
     "name": "stdout",
     "output_type": "stream",
     "text": [
      "+-------+-----+\n",
      "|cluster|count|\n",
      "+-------+-----+\n",
      "|      2|17990|\n",
      "|      4|11227|\n",
      "|      1|45279|\n",
      "|      0|23124|\n",
      "|      3| 2379|\n",
      "+-------+-----+\n",
      "\n"
     ]
    }
   ],
   "source": [
    "final = df.join(output, [\"code_client_rcu\"])\n",
    "final.groupBy(\"cluster\").count().show()"
   ]
  },
  {
   "cell_type": "markdown",
   "metadata": {},
   "source": [
    "## Cluster and Interpretability"
   ]
  },
  {
   "cell_type": "code",
   "execution_count": 25,
   "metadata": {},
   "outputs": [
    {
     "name": "stdout",
     "output_type": "stream",
     "text": [
      "\n",
      "--cluster 0 description\n",
      "+-------+------------------+----------------------+------------------+------------------+-----------------------+\n",
      "|summary|           age_fin|nb_personnes_foyer_fin|            ca_cli|nb_tickets_bio_cli|nb_tickets_epicerie_cli|\n",
      "+-------+------------------+----------------------+------------------+------------------+-----------------------+\n",
      "|  count|             23124|                 23124|             23124|             23124|                  23124|\n",
      "|   mean|  86.6020356162834|     1.468388633001917| 261.6443037536756|0.3281439197370697|      5.523482096523093|\n",
      "| stddev|14.425896448786443|    0.6032527751162192|153.81009163858897|0.7975995409765995|      2.641737403522946|\n",
      "|    min|              61.0|                   1.0|0.9900000000000092|                 0|                      0|\n",
      "|    max|             117.0|                   5.0|           1065.32|                 6|                     14|\n",
      "+-------+------------------+----------------------+------------------+------------------+-----------------------+\n",
      "\n",
      "None\n",
      "\n",
      "--cluster 1 description\n",
      "+-------+------------------+----------------------+--------------------+-------------------+-----------------------+\n",
      "|summary|           age_fin|nb_personnes_foyer_fin|              ca_cli| nb_tickets_bio_cli|nb_tickets_epicerie_cli|\n",
      "+-------+------------------+----------------------+--------------------+-------------------+-----------------------+\n",
      "|  count|             45279|                 45279|               45279|              45279|                  45279|\n",
      "|   mean| 60.87374703550912|    1.9498673332693186|    126.117251264383|0.20437730515249894|     2.7015393449501977|\n",
      "| stddev|11.424633735431602|    0.4475402612506704|  123.66625491010701| 0.6118572411075239|     2.1112474198497644|\n",
      "|    min|               0.0|                   1.0|-0.01000000000000334|                  0|                      0|\n",
      "|    max|              86.0|                   3.0|             1203.88|                  6|                     12|\n",
      "+-------+------------------+----------------------+--------------------+-------------------+-----------------------+\n",
      "\n",
      "None\n",
      "\n",
      "--cluster 2 description\n",
      "+-------+------------------+----------------------+-----------------+------------------+-----------------------+\n",
      "|summary|           age_fin|nb_personnes_foyer_fin|           ca_cli|nb_tickets_bio_cli|nb_tickets_epicerie_cli|\n",
      "+-------+------------------+----------------------+-----------------+------------------+-----------------------+\n",
      "|  count|             17990|                 17990|            17990|             17990|                  17990|\n",
      "|   mean| 73.25422966500005|      1.68720677282969|824.5901145080605|0.7764869371873263|     12.146025569760978|\n",
      "| stddev|12.875261673899876|    0.6218330477253369|451.0752076584454|1.1623519178377606|     3.6700405083966614|\n",
      "|    min|               1.0|                   1.0|86.00000000000001|                 0|                      4|\n",
      "|    max|             117.0|                   5.0|5096.630000000001|                 5|                     52|\n",
      "+-------+------------------+----------------------+-----------------+------------------+-----------------------+\n",
      "\n",
      "None\n",
      "\n",
      "--cluster 3 description\n",
      "+-------+------------------+----------------------+-----------------+------------------+-----------------------+\n",
      "|summary|           age_fin|nb_personnes_foyer_fin|           ca_cli|nb_tickets_bio_cli|nb_tickets_epicerie_cli|\n",
      "+-------+------------------+----------------------+-----------------+------------------+-----------------------+\n",
      "|  count|              2379|                  2379|             2379|              2379|                   2379|\n",
      "|   mean|  74.6981931016951|    1.7170973050445923|1419.103177805801| 8.577973938629677|      15.10844892812106|\n",
      "| stddev|15.559307796840397|    0.7916135632858065|1327.355381172969|4.5581139509561215|      8.302016235914605|\n",
      "|    min|              11.0|                   1.0|37.47000000000002|                 0|                      2|\n",
      "|    max|             117.0|                   5.0|         17654.93|                46|                     58|\n",
      "+-------+------------------+----------------------+-----------------+------------------+-----------------------+\n",
      "\n",
      "None\n",
      "\n",
      "--cluster 4 description\n",
      "+-------+------------------+----------------------+------------------+------------------+-----------------------+\n",
      "|summary|           age_fin|nb_personnes_foyer_fin|            ca_cli|nb_tickets_bio_cli|nb_tickets_epicerie_cli|\n",
      "+-------+------------------+----------------------+------------------+------------------+-----------------------+\n",
      "|  count|             11227|                 11227|             11227|             11227|                  11227|\n",
      "|   mean| 46.92561771279371|     4.117309615588448|233.17522401353898|0.2357709094148036|      4.188563284938096|\n",
      "| stddev|15.112740225685597|    0.7310536409879967| 238.1838825453077|0.7522704160056718|      3.274183163750969|\n",
      "|    min|               0.0|                   2.0|0.0099999999999838|                 0|                      0|\n",
      "|    max|             117.0|                   5.0|           1998.03|                 7|                     24|\n",
      "+-------+------------------+----------------------+------------------+------------------+-----------------------+\n",
      "\n",
      "None\n"
     ]
    }
   ],
   "source": [
    "for i in range(0, len(clusters.clusterCenters)):\n",
    "    print(\"\\n--cluster {0} description\".format(i))\n",
    "    print(final.filter(\"cluster={0}\".format(i)).describe(varList).show())"
   ]
  }
 ],
 "metadata": {
  "kernelspec": {
   "display_name": "Python 2",
   "language": "python",
   "name": "python2"
  },
  "language_info": {
   "codemirror_mode": {
    "name": "ipython",
    "version": 2
   },
   "file_extension": ".py",
   "mimetype": "text/x-python",
   "name": "python",
   "nbconvert_exporter": "python",
   "pygments_lexer": "ipython2",
   "version": "2.7.12"
  }
 },
 "nbformat": 4,
 "nbformat_minor": 2
}
